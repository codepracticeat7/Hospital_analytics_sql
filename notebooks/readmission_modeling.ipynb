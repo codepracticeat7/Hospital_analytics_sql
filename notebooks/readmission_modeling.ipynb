{
 "cells": [
  {
   "cell_type": "code",
   "execution_count": 2,
   "id": "f67fd54d",
   "metadata": {},
   "outputs": [],
   "source": [
    "import pandas as pd\n",
    "\n",
    "# Load the original dataset\n",
    "df = pd.read_csv(r\"..\\data\\diabetic_data.csv\")\n",
    "\n",
    "# Standardize column names\n",
    "df.columns = df.columns.str.lower().str.replace(\" \", \"_\")\n",
    "\n",
    "# Drop columns with too many missing values or little relevance\n",
    "df_clean = df.drop(columns=[\"payer_code\", \"medical_specialty\"])\n",
    "\n",
    "\n"
   ]
  },
  {
   "cell_type": "code",
   "execution_count": 3,
   "id": "668f124a",
   "metadata": {},
   "outputs": [
    {
     "data": {
      "text/plain": [
       "(101766, 73326, 101766)"
      ]
     },
     "execution_count": 3,
     "metadata": {},
     "output_type": "execute_result"
    }
   ],
   "source": [
    "# Save the cleaned full dataset\n",
    "df_clean.to_csv(r\"..\\data\\clean_diabetic_data.csv\", index=False)\n",
    "\n",
    "# Create a simplified patients table\n",
    "patients = df_clean[[\"patient_nbr\", \"race\", \"gender\", \"age\"]].drop_duplicates()\n",
    "patients.to_csv(r\"..\\data\\patients.csv\", index=False)\n",
    "\n",
    "# Create a hospital visits table without patient demographic columns\n",
    "hospital_visits = df_clean.drop(columns=[\"race\", \"gender\", \"age\"])\n",
    "hospital_visits.to_csv(r\"..\\data\\hospital_visits.csv\", index=False)\n",
    "\n",
    "# Preview number of rows for each\n",
    "len(df_clean), len(patients), len(hospital_visits)"
   ]
  },
  {
   "cell_type": "code",
   "execution_count": 2,
   "id": "316bfd69",
   "metadata": {},
   "outputs": [
    {
     "data": {
      "text/plain": [
       "'K:\\\\data science\\\\Hospital_analytics_sql\\\\data\\\\create_tables.sql'"
      ]
     },
     "execution_count": 2,
     "metadata": {},
     "output_type": "execute_result"
    }
   ],
   "source": [
    "# Generate SQL create table statements for PostgreSQL\n",
    "\n",
    "patients = \"\"\"\n",
    "CREATE TABLE patients (\n",
    "    patient_nbr BIGINT PRIMARY KEY,\n",
    "    race TEXT,\n",
    "    gender TEXT,\n",
    "    age TEXT\n",
    ");\n",
    "\"\"\"\n",
    "\n",
    "hospital_visits = \"\"\"\n",
    "CREATE TABLE hospital_visits (\n",
    "    encounter_id BIGINT PRIMARY KEY,\n",
    "    patient_nbr BIGINT REFERENCES patients(patient_nbr),\n",
    "    admission_type_id INTEGER,\n",
    "    discharge_disposition_id INTEGER,\n",
    "    admission_source_id INTEGER,\n",
    "    time_in_hospital INTEGER,\n",
    "    num_lab_procedures INTEGER,\n",
    "    num_procedures INTEGER,\n",
    "    num_medications INTEGER,\n",
    "    number_outpatient INTEGER,\n",
    "    number_emergency INTEGER,\n",
    "    number_inpatient INTEGER,\n",
    "    diag_1 TEXT,\n",
    "    diag_2 TEXT,\n",
    "    diag_3 TEXT,\n",
    "    number_diagnoses INTEGER,\n",
    "    max_glu_serum TEXT,\n",
    "    a1cresult TEXT,\n",
    "    metformin TEXT,\n",
    "    insulin TEXT,\n",
    "    change TEXT,\n",
    "    diabetesmed TEXT,\n",
    "    readmitted TEXT\n",
    ");\n",
    "\"\"\"\n",
    "\n",
    "# Save these to .sql files\n",
    "with open(r\"K:\\data science\\Hospital_analytics_sql\\data\\create_tables.sql\", \"w\") as f:\n",
    "    f.write(patients)\n",
    "    f.write(\"\\n\")\n",
    "    f.write(hospital_visits)\n",
    "\n",
    "r\"K:\\data science\\Hospital_analytics_sql\\data\\create_tables.sql\"\n"
   ]
  },
  {
   "cell_type": "code",
   "execution_count": 6,
   "id": "ce570e1c",
   "metadata": {},
   "outputs": [],
   "source": [
    "with open(r\"..\\sql\\insert_patients.sql\", \"w\") as f:\n",
    "    for _, row in patients.iterrows():\n",
    "        query = (\n",
    "            f\"MERGE INTO patients_sql AS target\\n\"\n",
    "            f\"USING (SELECT {row['patient_nbr']} AS patient_nbr, \"\n",
    "            f\"'{row['race']}' AS race, '{row['gender']}' AS gender, '{row['age']}' AS age) AS source\\n\"\n",
    "            f\"ON target.patient_nbr = source.patient_nbr\\n\"\n",
    "            f\"WHEN MATCHED THEN\\n\"\n",
    "            f\"    UPDATE SET race = source.race, gender = source.gender, age = source.age\\n\"\n",
    "            f\"WHEN NOT MATCHED THEN\\n\"\n",
    "            f\"    INSERT (patient_nbr, race, gender, age)\\n\"\n",
    "            f\"    VALUES (source.patient_nbr, source.race, source.gender, source.age);\\n\\n\"\n",
    "        )\n",
    "        f.write(query)\n"
   ]
  }
 ],
 "metadata": {
  "kernelspec": {
   "display_name": ".venv",
   "language": "python",
   "name": "python3"
  },
  "language_info": {
   "codemirror_mode": {
    "name": "ipython",
    "version": 3
   },
   "file_extension": ".py",
   "mimetype": "text/x-python",
   "name": "python",
   "nbconvert_exporter": "python",
   "pygments_lexer": "ipython3",
   "version": "3.13.2"
  }
 },
 "nbformat": 4,
 "nbformat_minor": 5
}
